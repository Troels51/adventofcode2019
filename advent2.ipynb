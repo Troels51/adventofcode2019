{
 "cells": [
  {
   "cell_type": "code",
   "execution_count": 7,
   "metadata": {},
   "outputs": [],
   "source": [
    "def intcode(codes, position):\n",
    "    opcode = codes[position]\n",
    "    if opcode == 1:\n",
    "        x,y,z = codes[position + 1], codes[position + 2], codes[position + 3]\n",
    "        codes[z] = codes[x] + codes[y]\n",
    "    elif opcode == 2:\n",
    "        x,y,z = codes[position + 1], codes[position + 2], codes[position + 3]\n",
    "        codes[z] = codes[x] * codes[y]\n",
    "    elif opcode == 99:\n",
    "        pass"
   ]
  },
  {
   "cell_type": "code",
   "execution_count": 13,
   "metadata": {},
   "outputs": [
    {
     "name": "stdout",
     "output_type": "stream",
     "text": [
      "59:36\n",
      "5936\n"
     ]
    },
    {
     "data": {
      "text/plain": [
       "19690720"
      ]
     },
     "execution_count": 13,
     "metadata": {},
     "output_type": "execute_result"
    }
   ],
   "source": [
    "\n",
    "input_array = [1,0,0,3,1,1,2,3,1,3,4,3,1,5,0,3,2,10,1,19,1,19,9,23,1,23,6,27,2,27,13,31,1,10,31,35,1,10,35,39,2,39,6,43,1,43,5,47,2,10,47,51,1,5,51,55,1,55,13,59,1,59,9,63,2,9,63,67,1,6,67,71,1,71,13,75,1,75,10,79,1,5,79,83,1,10,83,87,1,5,87,91,1,91,9,95,2,13,95,99,1,5,99,103,2,103,9,107,1,5,107,111,2,111,9,115,1,115,6,119,2,13,119,123,1,123,5,127,1,127,9,131,1,131,10,135,1,13,135,139,2,9,139,143,1,5,143,147,1,13,147,151,1,151,2,155,1,10,155,0,99,2,14,0,0]\n",
    "for noun in range(0,100):\n",
    "    for verb in range(0,100):\n",
    "        memory = input_array.copy()\n",
    "        position = 0\n",
    "        memory[1] = noun\n",
    "        memory[2] = verb\n",
    "        while memory[position] != 99:\n",
    "            intcode(memory, position)\n",
    "            position = position + 4\n",
    "        if(memory[0] == 19690720):\n",
    "            print(str(noun) + \":\" + str(verb))\n",
    "            print(100*(noun) + verb)\n",
    "\n",
    "19690720"
   ]
  },
  {
   "cell_type": "code",
   "execution_count": null,
   "metadata": {},
   "outputs": [],
   "source": []
  }
 ],
 "metadata": {
  "kernelspec": {
   "display_name": "Python 3",
   "language": "python",
   "name": "python3"
  },
  "language_info": {
   "codemirror_mode": {
    "name": "ipython",
    "version": 3
   },
   "file_extension": ".py",
   "mimetype": "text/x-python",
   "name": "python",
   "nbconvert_exporter": "python",
   "pygments_lexer": "ipython3",
   "version": "3.6.7"
  }
 },
 "nbformat": 4,
 "nbformat_minor": 2
}
