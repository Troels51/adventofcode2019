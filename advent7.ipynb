{
 "cells": [
  {
   "cell_type": "code",
   "execution_count": 113,
   "metadata": {},
   "outputs": [],
   "source": [
    "f = open('input7.txt', 'r')\n",
    "input_commands = f.read()\n",
    "input_commands = list(map(int, input_commands.split(',')))\n",
    "f.close()"
   ]
  },
  {
   "cell_type": "code",
   "execution_count": 119,
   "metadata": {},
   "outputs": [],
   "source": [
    "from enum import Enum\n",
    "class Mode(Enum):\n",
    "    Position = 0\n",
    "    Immediate = 1\n",
    "\n",
    "def op1(memory, position, modes):\n",
    "    x,y,z = memory[position + 1], memory[position + 2], memory[position + 3]\n",
    "    x_val = memory[x] if modes[0] == Mode.Position else x\n",
    "    y_val = memory[y] if modes[1] == Mode.Position else y\n",
    "    memory[z] = x_val + y_val\n",
    "    return position + 4\n",
    "\n",
    "def op2(memory, position, modes):\n",
    "    x,y,z = memory[position + 1], memory[position + 2], memory[position + 3]\n",
    "    x_val = memory[x] if modes[0] == Mode.Position else x\n",
    "    y_val = memory[y] if modes[1] == Mode.Position else y\n",
    "    memory[z] = x_val * y_val\n",
    "    return position + 4\n",
    "\n",
    "def op3(memory, position, modes, inputfunc):\n",
    "    address = memory[position + 1]\n",
    "    memory[address] = int(inputfunc())\n",
    "    return position + 2\n",
    "\n",
    "def op4(memory, position, modes, outputfunc):\n",
    "    address = memory[position + 1]\n",
    "    outputfunc(memory[address])\n",
    "    return position + 2\n",
    "\n",
    "def op5(memory, position, modes):\n",
    "    x,y = memory[position + 1], memory[position + 2]\n",
    "    x = memory[x] if modes[0] == Mode.Position else x\n",
    "    y = memory[y] if modes[1] == Mode.Position else y\n",
    "    if x == 0:\n",
    "        return position + 3\n",
    "    return y\n",
    "\n",
    "def op6(memory, position, modes):\n",
    "    x,y = memory[position + 1], memory[position + 2]\n",
    "    x = memory[x] if modes[0] == Mode.Position else x\n",
    "    y = memory[y] if modes[1] == Mode.Position else y\n",
    "    if x == 0:\n",
    "        return y\n",
    "    return position  + 3\n",
    "\n",
    "def op7(memory, position, modes):\n",
    "    x,y,z = memory[position + 1], memory[position + 2], memory[position + 3]\n",
    "    x = memory[x] if modes[0] == Mode.Position else x\n",
    "    y = memory[y] if modes[1] == Mode.Position else y\n",
    "    if x < y:\n",
    "        memory[z] = 1\n",
    "    else:\n",
    "        memory[z] = 0\n",
    "    return position + 4\n",
    "\n",
    "def op8(memory, position, modes):\n",
    "    x,y,z = memory[position + 1], memory[position + 2], memory[position + 3]\n",
    "    x = memory[x] if modes[0] == Mode.Position else x\n",
    "    y = memory[y] if modes[1] == Mode.Position else y\n",
    "    if x == y:\n",
    "        memory[z] = 1\n",
    "    else:\n",
    "        memory[z] = 0\n",
    "    return position + 4\n",
    "\n",
    "\n",
    "def get_mode_and_opcode(value):\n",
    "    modes = [Mode.Position,Mode.Position]\n",
    "    opcode = value\n",
    "    str_val = str(value).rjust(4, '0')\n",
    "    modes = list(map(lambda v: Mode(int(v)), (str_val[0:2])))[::-1]\n",
    "    opcode = int(str_val[2:])\n",
    "    return (modes, opcode)\n",
    "        \n",
    "    \n",
    "def intcode(memory, position, inputfunc, outputfunc):\n",
    "    modes, opcode = get_mode_and_opcode(memory[position])\n",
    "    if opcode == 1:\n",
    "        return op1(memory, position, modes)\n",
    "    elif opcode == 2:\n",
    "        return op2(memory, position, modes)\n",
    "    elif opcode == 3:\n",
    "        return op3(memory, position, modes, inputfunc)\n",
    "    elif opcode == 4:\n",
    "        return op4(memory,position, modes, outputfunc)\n",
    "    elif opcode == 5:\n",
    "        return op5(memory,position, modes)\n",
    "    elif opcode == 6:\n",
    "        return op6(memory,position, modes)\n",
    "    elif opcode == 7:\n",
    "        return op7(memory,position, modes)\n",
    "    elif opcode == 8:\n",
    "        return op8(memory,position, modes)\n",
    "    elif opcode == 99:\n",
    "        return None\n"
   ]
  },
  {
   "cell_type": "code",
   "execution_count": 140,
   "metadata": {},
   "outputs": [
    {
     "name": "stdout",
     "output_type": "stream",
     "text": [
      "65210\n"
     ]
    }
   ],
   "source": [
    "phase_setting_seq = [1,0,4,3,2]\n",
    "\n",
    "memory = [3,31,3,32,1002,32,10,32,1001,31,-2,31,1007,31,0,33,\n",
    "1002,33,7,33,1,33,31,31,1,32,31,31,4,31,99,0,0,0]\n",
    "        \n",
    "def run_amplifier(memory, phase_setting, input_value):\n",
    "    position = 0\n",
    "    first_time = True\n",
    "    def i_func():\n",
    "        nonlocal phase_setting\n",
    "        nonlocal input_value\n",
    "        nonlocal first_time\n",
    "        if first_time:\n",
    "            first_time = False\n",
    "            return phase_setting\n",
    "        else:\n",
    "            first_time = True\n",
    "            return input_value\n",
    "    output = 0\n",
    "    def o_func(value):\n",
    "        nonlocal output\n",
    "        output = value\n",
    "    while position != None:\n",
    "        position = intcode(memory, position, i_func, o_func)\n",
    "    return output\n",
    "def check_phase_setting_seq(seq, memory):\n",
    "    input_value = 0\n",
    "    for phase_setting in seq:\n",
    "        input_value = run_amplifier(memory.copy(), phase_setting, input_value)\n",
    "    return input_value\n",
    "\n",
    "print(check_phase_setting_seq(phase_setting_seq, memory.copy()))\n"
   ]
  },
  {
   "cell_type": "code",
   "execution_count": 144,
   "metadata": {},
   "outputs": [
    {
     "name": "stdout",
     "output_type": "stream",
     "text": [
      "70597\n"
     ]
    }
   ],
   "source": [
    "import itertools\n",
    "memory = input_commands.copy()\n",
    "sequences = list(itertools.permutations(range(5)))\n",
    "test = list(map(lambda seq : check_phase_setting_seq(seq, input_commands.copy()), list(sequences)))\n",
    "test.sort()\n",
    "#print(test)\n",
    "print(max(test))"
   ]
  },
  {
   "cell_type": "code",
   "execution_count": 230,
   "metadata": {},
   "outputs": [],
   "source": [
    "class amplifier:\n",
    "    def __init__(self, memory, phase_setting):\n",
    "        self.memory = memory\n",
    "        self.phase_setting = phase_setting\n",
    "        self.position = 0\n",
    "        self.input_func_state = True\n",
    "        self.output = 0\n",
    "        self.halted = False\n",
    "        self.output_ready = False\n",
    "    def i_func(self):\n",
    "        if self.input_func_state:\n",
    "            self.input_func_state = False\n",
    "            return self.phase_setting\n",
    "        else:\n",
    "            return self.input_value\n",
    "    def o_func(self, value):\n",
    "        self.output = value\n",
    "        self.output_ready = True\n",
    "\n",
    "    def run(self, input_value):\n",
    "        self.input_value = input_value\n",
    "        while not self.halted:\n",
    "            self.position = intcode(self.memory, self.position, self.i_func, self.o_func)\n",
    "            if self.position == None:\n",
    "                self.halted = True\n",
    "            if self.output_ready:\n",
    "                self.output_ready = False\n",
    "                return"
   ]
  },
  {
   "cell_type": "code",
   "execution_count": 231,
   "metadata": {},
   "outputs": [
    {
     "name": "stdout",
     "output_type": "stream",
     "text": [
      "139629729\n"
     ]
    }
   ],
   "source": [
    "phase_setting_seq = [9,8,7,6,5]\n",
    "memory = [3,26,1001,26,-4,26,3,27,1002,27,2,27,1,27,26,27,4,27,1001,28,-1,28,1005,28,6,99,0,0,5]\n",
    "#phase_setting_seq = [1,0,4,3,2]\n",
    "#memory = [3,31,3,32,1002,32,10,32,1001,31,-2,31,1007,31,0,33,1002,33,7,33,1,33,31,31,1,32,31,31,4,31,99,0,0,0]\n",
    "amplifiers = []\n",
    "for phase_setting in phase_setting_seq:\n",
    "    amplifiers.append(amplifier(memory.copy(), phase_setting))\n",
    "input_value = 0\n",
    "while all(not amp.halted for amp in amplifiers):\n",
    "    for amp in amplifiers:\n",
    "        amp.run(input_value)\n",
    "        input_value = amp.output\n",
    "\n",
    "print(input_value)\n"
   ]
  },
  {
   "cell_type": "code",
   "execution_count": 234,
   "metadata": {},
   "outputs": [
    {
     "name": "stdout",
     "output_type": "stream",
     "text": [
      "30872528\n"
     ]
    }
   ],
   "source": [
    "memory = input_commands.copy()\n",
    "sequences = list(itertools.permutations(range(5, 10)))\n",
    "value = 0\n",
    "for seq in sequences:\n",
    "    amplifiers = []\n",
    "    for phase_setting in seq:\n",
    "        amplifiers.append(amplifier(memory.copy(), phase_setting))\n",
    "    input_value = 0\n",
    "    while all(not amp.halted for amp in amplifiers):\n",
    "        for amp in amplifiers:\n",
    "            amp.run(input_value)\n",
    "            input_value = amp.output\n",
    "    value = max(value, input_value)\n",
    "print(value)"
   ]
  },
  {
   "cell_type": "code",
   "execution_count": null,
   "metadata": {},
   "outputs": [],
   "source": []
  }
 ],
 "metadata": {
  "kernelspec": {
   "display_name": "Python 3",
   "language": "python",
   "name": "python3"
  },
  "language_info": {
   "codemirror_mode": {
    "name": "ipython",
    "version": 3
   },
   "file_extension": ".py",
   "mimetype": "text/x-python",
   "name": "python",
   "nbconvert_exporter": "python",
   "pygments_lexer": "ipython3",
   "version": "3.6.7"
  }
 },
 "nbformat": 4,
 "nbformat_minor": 2
}
