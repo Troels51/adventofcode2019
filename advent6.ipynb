{
 "cells": [
  {
   "cell_type": "code",
   "execution_count": 1,
   "metadata": {},
   "outputs": [],
   "source": [
    "f = open('input_6.txt', 'r')\n",
    "input_orbits = f.readlines()\n",
    "f.close()"
   ]
  },
  {
   "cell_type": "code",
   "execution_count": 2,
   "metadata": {},
   "outputs": [],
   "source": [
    "orbits = []\n",
    "for line in input_orbits:\n",
    "    first, second = line[:-1].split(')')\n",
    "    orbits.append((first, second))"
   ]
  },
  {
   "cell_type": "code",
   "execution_count": 53,
   "metadata": {},
   "outputs": [],
   "source": [
    "test_input = [\"COM)B\",\n",
    "\"B)C\",\n",
    "\"C)D\",\n",
    "\"D)E\",\n",
    "\"E)F\",\n",
    "\"B)G\",\n",
    "\"G)H\",\n",
    "\"D)I\",\n",
    "\"E)J\",\n",
    "\"J)K\",\n",
    "\"K)L\"]\n",
    "test_orbits = []\n",
    "for line in test_input:\n",
    "    first, second = line.split(')')\n",
    "    test_orbits.append((first, second))"
   ]
  },
  {
   "cell_type": "code",
   "execution_count": 185,
   "metadata": {},
   "outputs": [],
   "source": [
    "def find_in_list(pair_list, name):\n",
    "    return list(filter(lambda pair : pair[0] == name, pair_list))\n",
    "    \n",
    "# This was not needed, i had to traverse from the bottom so this was not useful\n",
    "class Node:\n",
    "    def __init__(self, name):\n",
    "        self.name = name\n",
    "        self.children = []\n",
    "    def add_child(self, child):\n",
    "        self.children.append(child)\n",
    "    def populate_children(self, child_list):\n",
    "        for child in self.children:\n",
    "            new_children = find_in_list(child_list, child.name)\n",
    "            for new_child in new_children:\n",
    "                child.add_child(Node(new_child[1]))\n",
    "            child.populate_children(child_list)\n",
    "    def count_paths():\n",
    "        pass\n",
    "    def print(self, indent = 2):\n",
    "        print(self.name.rjust(indent))\n",
    "        for c in self.children:\n",
    "            c.print(indent+1)\n",
    "\n",
    "def create_tree(orbits):\n",
    "    com = list(filter(lambda orbit : orbit[0] == 'COM', orbits))[0]\n",
    "    comNode = Node(com[0])\n",
    "    comNode.add_child(Node(com[1]))\n",
    "    comNode.populate_children(orbits)\n",
    "    return comNode"
   ]
  },
  {
   "cell_type": "code",
   "execution_count": 186,
   "metadata": {},
   "outputs": [
    {
     "name": "stdout",
     "output_type": "stream",
     "text": [
      "COM\n",
      "  B\n",
      "   C\n",
      "    D\n",
      "     E\n",
      "      F\n",
      "      J\n",
      "       K\n",
      "        L\n",
      "     I\n",
      "   G\n",
      "    H\n"
     ]
    }
   ],
   "source": [
    "orbit_tree = create_tree(test_orbits)\n",
    "orbit_tree.print()"
   ]
  },
  {
   "cell_type": "code",
   "execution_count": 208,
   "metadata": {},
   "outputs": [],
   "source": [
    "def follow_orbit(current_planet, orbits):\n",
    "    # Find all planets that match\n",
    "    next_planets = list(map(lambda orbit : orbit[0], filter(lambda orbit : orbit[1] == current_planet, orbits))) \n",
    "    if len(next_planets) == 0:\n",
    "        return 1\n",
    "    return 1 + sum(list(map(lambda o : follow_orbit(o, orbits), list(next_planets))))"
   ]
  },
  {
   "cell_type": "code",
   "execution_count": 209,
   "metadata": {},
   "outputs": [
    {
     "data": {
      "text/plain": [
       "42"
      ]
     },
     "execution_count": 209,
     "metadata": {},
     "output_type": "execute_result"
    }
   ],
   "source": [
    "sum(list(map(lambda o : follow_orbit(o[0], test_orbits), test_orbits)))"
   ]
  },
  {
   "cell_type": "code",
   "execution_count": 210,
   "metadata": {},
   "outputs": [
    {
     "data": {
      "text/plain": [
       "333679"
      ]
     },
     "execution_count": 210,
     "metadata": {},
     "output_type": "execute_result"
    }
   ],
   "source": [
    "sum(list(map(lambda o : follow_orbit(o[0], orbits), orbits)))"
   ]
  },
  {
   "cell_type": "code",
   "execution_count": 254,
   "metadata": {},
   "outputs": [],
   "source": [
    "def find_second_in_list(pair_list, name):\n",
    "    return list(filter(lambda pair : pair[1] == name, pair_list))\n",
    "    \n",
    "def common_root(orbital_map):\n",
    "    # Get a list of orbits from santa to COM\n",
    "    # Traverse from me up in orbits untill we reach one from the santa list\n",
    "    santa_orbit = find_second_in_list(orbital_map, \"SAN\")\n",
    "    santa_route_to_com = []\n",
    "    current_orbit = santa_orbit[0]\n",
    "    path_length = 0\n",
    "    while current_orbit[0] != 'COM':\n",
    "        santa_route_to_com.append(current_orbit)\n",
    "        current_orbit = find_second_in_list(orbital_map, current_orbit[0])[0]\n",
    "        path_length +=1\n",
    "    # Now traverse from YOU\n",
    "    you_orbit = find_second_in_list(orbital_map, \"YOU\")\n",
    "    current_orbit = you_orbit[0]\n",
    "    while current_orbit not in santa_route_to_com:\n",
    "        current_orbit = find_second_in_list(orbital_map, current_orbit[0])[0]\n",
    "        path_length += 1\n",
    "    return current_orbit\n",
    "\n",
    "def count_path(orbital_map, src, destination):\n",
    "    current_orbit = find_second_in_list(orbital_map, src)[0]\n",
    "    path_length = 0\n",
    "    while current_orbit[0] != destination[1]:\n",
    "        current_orbit = find_second_in_list(orbital_map, current_orbit[0])[0]\n",
    "        path_length += 1\n",
    "    return path_length"
   ]
  },
  {
   "cell_type": "code",
   "execution_count": 256,
   "metadata": {},
   "outputs": [
    {
     "name": "stdout",
     "output_type": "stream",
     "text": [
      "('NQ1', '1SS')\n",
      "370\n"
     ]
    }
   ],
   "source": [
    "root = common_root(orbits)\n",
    "path_length = count_path(orbits, 'SAN', root)\n",
    "path_length += count_path(orbits, 'YOU', root)\n",
    "\n",
    "print(root)\n",
    "print(path_length)"
   ]
  },
  {
   "cell_type": "code",
   "execution_count": null,
   "metadata": {},
   "outputs": [],
   "source": [
    "## All of this could be made a lot faster by implementing a proper traversable tree"
   ]
  }
 ],
 "metadata": {
  "kernelspec": {
   "display_name": "Python 3",
   "language": "python",
   "name": "python3"
  },
  "language_info": {
   "codemirror_mode": {
    "name": "ipython",
    "version": 3
   },
   "file_extension": ".py",
   "mimetype": "text/x-python",
   "name": "python",
   "nbconvert_exporter": "python",
   "pygments_lexer": "ipython3",
   "version": "3.6.7"
  }
 },
 "nbformat": 4,
 "nbformat_minor": 2
}
