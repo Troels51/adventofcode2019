{
 "cells": [
  {
   "cell_type": "code",
   "execution_count": 60,
   "metadata": {},
   "outputs": [],
   "source": [
    "# Advent 4\n",
    "#input = 372037-905157\n",
    "input = range(372037, 905157)"
   ]
  },
  {
   "cell_type": "code",
   "execution_count": 61,
   "metadata": {},
   "outputs": [
    {
     "name": "stdout",
     "output_type": "stream",
     "text": [
      "True\n"
     ]
    }
   ],
   "source": [
    "def criteria3(number):\n",
    "    charList = list(str(number))\n",
    "    return any(list(map(lambda pair: pair[0] == pair[1], (zip(charList, charList[1:])))))\n",
    "print(criteria3(122345))"
   ]
  },
  {
   "cell_type": "code",
   "execution_count": 62,
   "metadata": {},
   "outputs": [
    {
     "name": "stdout",
     "output_type": "stream",
     "text": [
      "True\n",
      "True\n"
     ]
    }
   ],
   "source": [
    "def criteria4(number):\n",
    "    charList = list(map(int, list(str(number))))\n",
    "    return all(list(map(lambda pair: pair[0] <= pair[1], (zip(charList, charList[1:])))))\n",
    "\n",
    "print(criteria4(111123))\n",
    "print(criteria4(135679))"
   ]
  },
  {
   "cell_type": "code",
   "execution_count": 63,
   "metadata": {},
   "outputs": [],
   "source": [
    "matching = list(filter(lambda x : x != None, list(map(lambda number : number if (criteria3(number) and criteria4(number)) else None, input))))"
   ]
  },
  {
   "cell_type": "code",
   "execution_count": 64,
   "metadata": {},
   "outputs": [
    {
     "name": "stdout",
     "output_type": "stream",
     "text": [
      "481\n"
     ]
    }
   ],
   "source": [
    "print(len(matching))"
   ]
  },
  {
   "cell_type": "code",
   "execution_count": 100,
   "metadata": {},
   "outputs": [
    {
     "name": "stdout",
     "output_type": "stream",
     "text": [
      "True\n",
      "False\n",
      "True\n"
     ]
    }
   ],
   "source": [
    "# Could maybe rewrite using takewhile\n",
    "def criteria5(number):\n",
    "    charList = list(map(int, list(str(number))))\n",
    "    # Find the length of each substring\n",
    "    substrings = []\n",
    "    current_substr = 1\n",
    "    last_number = charList[0]\n",
    "    for c in charList[1:]:\n",
    "        if last_number == c:\n",
    "            current_substr += 1\n",
    "        else:\n",
    "            substrings.append(current_substr)\n",
    "            current_substr = 1\n",
    "            last_number = c\n",
    "    substrings.append(current_substr)\n",
    "    # Return wether there was a substring of length 2\n",
    "    return(substrings.count(2) > 0)\n",
    "\n",
    "print(criteria5(112233))\n",
    "print(criteria5(123444))\n",
    "print(criteria5(111122))"
   ]
  },
  {
   "cell_type": "code",
   "execution_count": 97,
   "metadata": {},
   "outputs": [],
   "source": [
    "matching_2 = list(filter(lambda x : x != None, list(map(lambda number : number if criteria5(number) else None, matching))))"
   ]
  },
  {
   "cell_type": "code",
   "execution_count": 99,
   "metadata": {},
   "outputs": [
    {
     "name": "stdout",
     "output_type": "stream",
     "text": [
      "299\n"
     ]
    }
   ],
   "source": [
    "print(len(matching_2))"
   ]
  },
  {
   "cell_type": "code",
   "execution_count": 123,
   "metadata": {},
   "outputs": [
    {
     "name": "stdout",
     "output_type": "stream",
     "text": [
      "True\n"
     ]
    }
   ],
   "source": [
    "import itertools\n",
    "def criteria5_oneliner(number):\n",
    "    charList = list(map(int, list(str(number))))\n",
    "    return any(list(map(lambda x: len(list(x[1])) == 2 , itertools.groupby(charList))))\n",
    "\n",
    "print(criteria5_oneliner(112233))"
   ]
  },
  {
   "cell_type": "code",
   "execution_count": 124,
   "metadata": {},
   "outputs": [],
   "source": [
    "matching_2_oneliner = list(filter(lambda x : x != None, list(map(lambda number : number if criteria5_oneliner(number) else None, matching))))"
   ]
  },
  {
   "cell_type": "code",
   "execution_count": 126,
   "metadata": {},
   "outputs": [
    {
     "name": "stdout",
     "output_type": "stream",
     "text": [
      "299\n"
     ]
    }
   ],
   "source": [
    "print(len(matching_2_oneliner))"
   ]
  },
  {
   "cell_type": "code",
   "execution_count": null,
   "metadata": {},
   "outputs": [],
   "source": []
  }
 ],
 "metadata": {
  "kernelspec": {
   "display_name": "Python 3",
   "language": "python",
   "name": "python3"
  },
  "language_info": {
   "codemirror_mode": {
    "name": "ipython",
    "version": 3
   },
   "file_extension": ".py",
   "mimetype": "text/x-python",
   "name": "python",
   "nbconvert_exporter": "python",
   "pygments_lexer": "ipython3",
   "version": "3.6.7"
  }
 },
 "nbformat": 4,
 "nbformat_minor": 2
}
