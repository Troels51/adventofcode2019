{
 "cells": [
  {
   "cell_type": "code",
   "execution_count": 4,
   "metadata": {},
   "outputs": [],
   "source": [
    "f = open('input8.txt', 'r')\n",
    "input_pixels = f.read()\n",
    "f.close()\n",
    "input_pixels = list(map(int, input_pixels.strip('\\n')))"
   ]
  },
  {
   "cell_type": "code",
   "execution_count": 49,
   "metadata": {},
   "outputs": [],
   "source": [
    "class image:\n",
    "    def __init__(self, height, width, pixel_data):\n",
    "        self.height = height\n",
    "        self.width = width\n",
    "        self.layers = []\n",
    "        for i in range(0, len(pixel_data), self.height*self.width):\n",
    "            self.layers.append(pixel_data[i:i + self.height*self.width])\n",
    "    @staticmethod\n",
    "    def merge_pixel(first, second):\n",
    "        if first == 2:\n",
    "            return second\n",
    "        else:\n",
    "            return first\n",
    "\n",
    "    def resulting_image(self):\n",
    "        # Create transparent first layer\n",
    "        result = [2]*self.height*self.width\n",
    "        for layer in self.layers:\n",
    "            result = [ self.merge_pixel(a,b) for (a,b) in zip(result, layer) ]\n",
    "        return result\n",
    "\n",
    "        \n",
    "        "
   ]
  },
  {
   "cell_type": "code",
   "execution_count": 50,
   "metadata": {},
   "outputs": [
    {
     "name": "stdout",
     "output_type": "stream",
     "text": [
      "(9, 2318)\n"
     ]
    }
   ],
   "source": [
    "test_image = image(25,6, input_pixels.copy())\n",
    "result = list(map(lambda layer : (layer.count(0), layer.count(1)*layer.count(2)), test_image.layers))\n",
    "result.sort()\n",
    "print(result[0])"
   ]
  },
  {
   "cell_type": "code",
   "execution_count": 54,
   "metadata": {},
   "outputs": [
    {
     "name": "stdout",
     "output_type": "stream",
     "text": [
      "[0, 1, 1, 0, 0, 1, 0, 0, 1, 0, 1, 1, 1, 1, 0, 0, 1, 1, 0, 0, 1, 1, 1, 0, 0]\n",
      "[1, 0, 0, 1, 0, 1, 0, 0, 1, 0, 1, 0, 0, 0, 0, 1, 0, 0, 1, 0, 1, 0, 0, 1, 0]\n",
      "[1, 0, 0, 1, 0, 1, 1, 1, 1, 0, 1, 1, 1, 0, 0, 1, 0, 0, 0, 0, 1, 1, 1, 0, 0]\n",
      "[1, 1, 1, 1, 0, 1, 0, 0, 1, 0, 1, 0, 0, 0, 0, 1, 0, 0, 0, 0, 1, 0, 0, 1, 0]\n",
      "[1, 0, 0, 1, 0, 1, 0, 0, 1, 0, 1, 0, 0, 0, 0, 1, 0, 0, 1, 0, 1, 0, 0, 1, 0]\n",
      "[1, 0, 0, 1, 0, 1, 0, 0, 1, 0, 1, 0, 0, 0, 0, 0, 1, 1, 0, 0, 1, 1, 1, 0, 0]\n"
     ]
    }
   ],
   "source": [
    "resulting_image = test_image.resulting_image()\n",
    "print(resulting_image[0:25])\n",
    "print(resulting_image[25:50])\n",
    "print(resulting_image[50:75])\n",
    "print(resulting_image[75:100])\n",
    "print(resulting_image[100:125])\n",
    "print(resulting_image[125:150])"
   ]
  },
  {
   "cell_type": "code",
   "execution_count": null,
   "metadata": {},
   "outputs": [],
   "source": []
  }
 ],
 "metadata": {
  "kernelspec": {
   "display_name": "Python 3",
   "language": "python",
   "name": "python3"
  },
  "language_info": {
   "codemirror_mode": {
    "name": "ipython",
    "version": 3
   },
   "file_extension": ".py",
   "mimetype": "text/x-python",
   "name": "python",
   "nbconvert_exporter": "python",
   "pygments_lexer": "ipython3",
   "version": "3.6.7"
  }
 },
 "nbformat": 4,
 "nbformat_minor": 2
}
