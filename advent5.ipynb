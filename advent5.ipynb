{
 "cells": [
  {
   "cell_type": "code",
   "execution_count": 56,
   "metadata": {},
   "outputs": [],
   "source": [
    "from enum import Enum\n",
    "class Mode(Enum):\n",
    "    Position = 0\n",
    "    Immediate = 1\n",
    "\n",
    "def op1(memory, position, modes):\n",
    "    x,y,z = memory[position + 1], memory[position + 2], memory[position + 3]\n",
    "    x_val = memory[x] if modes[0] == Mode.Position else x\n",
    "    y_val = memory[y] if modes[1] == Mode.Position else y\n",
    "    memory[z] = x_val + y_val\n",
    "    return position + 4\n",
    "\n",
    "def op2(memory, position, modes):\n",
    "    x,y,z = memory[position + 1], memory[position + 2], memory[position + 3]\n",
    "    x_val = memory[x] if modes[0] == Mode.Position else x\n",
    "    y_val = memory[y] if modes[1] == Mode.Position else y\n",
    "    memory[z] = x_val * y_val\n",
    "    return position + 4\n",
    "\n",
    "def op3(memory, position, modes, inputfunc):\n",
    "    address = memory[position + 1]\n",
    "    memory[address] = int(inputfunc())\n",
    "    return position + 2\n",
    "\n",
    "def op4(memory, position, modes, outputfunc):\n",
    "    address = memory[position + 1]\n",
    "    outputfunc(memory[address])\n",
    "    return position + 2\n",
    "\n",
    "def op5(memory, position, modes):\n",
    "    x,y = memory[position + 1], memory[position + 2]\n",
    "    x = memory[x] if modes[0] == Mode.Position else x\n",
    "    y = memory[y] if modes[1] == Mode.Position else y\n",
    "    if x == 0:\n",
    "        return position + 3\n",
    "    return y\n",
    "\n",
    "def op6(memory, position, modes):\n",
    "    x,y = memory[position + 1], memory[position + 2]\n",
    "    x = memory[x] if modes[0] == Mode.Position else x\n",
    "    y = memory[y] if modes[1] == Mode.Position else y\n",
    "    \n",
    "    if x == 0:\n",
    "        return y\n",
    "    return position  + 3\n",
    "\n",
    "def op7(memory, position, modes):\n",
    "    x,y,z = memory[position + 1], memory[position + 2], memory[position + 3]\n",
    "    x = memory[x] if modes[0] == Mode.Position else x\n",
    "    y = memory[y] if modes[1] == Mode.Position else y\n",
    "    if x < y:\n",
    "        memory[z] = 1\n",
    "    else:\n",
    "        memory[z] = 0\n",
    "    return position + 4\n",
    "\n",
    "def op8(memory, position, modes):\n",
    "    x,y,z = memory[position + 1], memory[position + 2], memory[position + 3]\n",
    "    x = memory[x] if modes[0] == Mode.Position else x\n",
    "    y = memory[y] if modes[1] == Mode.Position else y\n",
    "    if x == y:\n",
    "        memory[z] = 1\n",
    "    else:\n",
    "        memory[z] = 0\n",
    "    return position + 4\n",
    "\n",
    "\n",
    "def get_mode_and_opcode(value):\n",
    "    modes = [Mode.Position,Mode.Position]\n",
    "    opcode = value\n",
    "    str_val = str(value).rjust(4, '0')\n",
    "    modes = list(map(lambda v: Mode(int(v)), (str_val[0:2])))[::-1]\n",
    "    opcode = int(str_val[2:])\n",
    "    return (modes, opcode)\n",
    "        \n",
    "    \n",
    "def intcode(memory, position, inputfunc, outputfunc):\n",
    "    modes, opcode = get_mode_and_opcode(memory[position])\n",
    "    if opcode == 1:\n",
    "        return op1(memory, position, modes)\n",
    "    elif opcode == 2:\n",
    "        return op2(memory, position, modes)\n",
    "    elif opcode == 3:\n",
    "        return op3(memory, position, modes, inputfunc)\n",
    "    elif opcode == 4:\n",
    "        return op4(memory,position, modes, outputfunc)\n",
    "    elif opcode == 5:\n",
    "        return op5(memory,position, modes)\n",
    "    elif opcode == 6:\n",
    "        return op6(memory,position, modes)\n",
    "    elif opcode == 7:\n",
    "        return op7(memory,position, modes)\n",
    "    elif opcode == 8:\n",
    "        return op8(memory,position, modes)\n",
    "    elif opcode == 99:\n",
    "        return None\n"
   ]
  },
  {
   "cell_type": "code",
   "execution_count": 57,
   "metadata": {},
   "outputs": [
    {
     "name": "stdout",
     "output_type": "stream",
     "text": [
      "[1002, 4, 3, 4, 99]\n"
     ]
    }
   ],
   "source": [
    "# Test\n",
    "position = 0\n",
    "memory = [1002, 4,3,4,33]\n",
    "o_func = print\n",
    "i_func = (lambda : 1)\n",
    "while position != None:\n",
    "    position = intcode(memory, position, i_func, o_func)\n",
    "print(memory)"
   ]
  },
  {
   "cell_type": "code",
   "execution_count": 58,
   "metadata": {},
   "outputs": [],
   "source": [
    "input_memory = [3,225,1,225,6,6,1100,1,238,225,104,0,1101,61,45,225,102,94,66,224,101,-3854,224,224,4,224,102,8,223,223,1001,224,7,224,1,223,224,223,1101,31,30,225,1102,39,44,224,1001,224,-1716,224,4,224,102,8,223,223,1001,224,7,224,1,224,223,223,1101,92,41,225,101,90,40,224,1001,224,-120,224,4,224,102,8,223,223,1001,224,1,224,1,223,224,223,1101,51,78,224,101,-129,224,224,4,224,1002,223,8,223,1001,224,6,224,1,224,223,223,1,170,13,224,101,-140,224,224,4,224,102,8,223,223,1001,224,4,224,1,223,224,223,1101,14,58,225,1102,58,29,225,1102,68,70,225,1002,217,87,224,101,-783,224,224,4,224,102,8,223,223,101,2,224,224,1,224,223,223,1101,19,79,225,1001,135,42,224,1001,224,-56,224,4,224,102,8,223,223,1001,224,6,224,1,224,223,223,2,139,144,224,1001,224,-4060,224,4,224,102,8,223,223,101,1,224,224,1,223,224,223,1102,9,51,225,4,223,99,0,0,0,677,0,0,0,0,0,0,0,0,0,0,0,1105,0,99999,1105,227,247,1105,1,99999,1005,227,99999,1005,0,256,1105,1,99999,1106,227,99999,1106,0,265,1105,1,99999,1006,0,99999,1006,227,274,1105,1,99999,1105,1,280,1105,1,99999,1,225,225,225,1101,294,0,0,105,1,0,1105,1,99999,1106,0,300,1105,1,99999,1,225,225,225,1101,314,0,0,106,0,0,1105,1,99999,1008,677,226,224,102,2,223,223,1006,224,329,101,1,223,223,108,677,677,224,102,2,223,223,1005,224,344,101,1,223,223,107,677,677,224,1002,223,2,223,1005,224,359,101,1,223,223,1107,226,677,224,1002,223,2,223,1005,224,374,1001,223,1,223,1008,677,677,224,102,2,223,223,1006,224,389,1001,223,1,223,1007,677,677,224,1002,223,2,223,1006,224,404,1001,223,1,223,8,677,226,224,102,2,223,223,1005,224,419,1001,223,1,223,8,226,226,224,102,2,223,223,1006,224,434,101,1,223,223,1107,226,226,224,1002,223,2,223,1006,224,449,101,1,223,223,1107,677,226,224,102,2,223,223,1005,224,464,101,1,223,223,1108,226,226,224,102,2,223,223,1006,224,479,1001,223,1,223,7,677,677,224,1002,223,2,223,1006,224,494,101,1,223,223,7,677,226,224,102,2,223,223,1005,224,509,101,1,223,223,1108,226,677,224,1002,223,2,223,1006,224,524,101,1,223,223,8,226,677,224,1002,223,2,223,1005,224,539,101,1,223,223,1007,226,226,224,102,2,223,223,1006,224,554,1001,223,1,223,108,226,226,224,1002,223,2,223,1006,224,569,1001,223,1,223,1108,677,226,224,102,2,223,223,1005,224,584,101,1,223,223,108,226,677,224,102,2,223,223,1005,224,599,101,1,223,223,1007,226,677,224,102,2,223,223,1006,224,614,1001,223,1,223,1008,226,226,224,1002,223,2,223,1006,224,629,1001,223,1,223,107,226,226,224,1002,223,2,223,1006,224,644,101,1,223,223,7,226,677,224,102,2,223,223,1005,224,659,1001,223,1,223,107,677,226,224,102,2,223,223,1005,224,674,1001,223,1,223,4,223,99,226]"
   ]
  },
  {
   "cell_type": "code",
   "execution_count": 63,
   "metadata": {},
   "outputs": [
    {
     "name": "stdout",
     "output_type": "stream",
     "text": [
      "1\n",
      "3\n",
      "0\n",
      "0\n",
      "0\n",
      "0\n",
      "0\n",
      "0\n",
      "0\n",
      "0\n",
      "16574641\n",
      "None\n"
     ]
    }
   ],
   "source": [
    "\n",
    "memory = input_memory.copy()\n",
    "position = 0\n",
    "i_func = input\n",
    "#i_func = (lambda : 1)\n",
    "\n",
    "o_func = print\n",
    "while position != None:\n",
    "    position = intcode(memory, position, i_func, o_func)\n",
    "print(position)\n"
   ]
  },
  {
   "cell_type": "code",
   "execution_count": 60,
   "metadata": {},
   "outputs": [],
   "source": [
    "input_memory_2 = [3,225,1,225,6,6,1100,1,238,225,104,0,1101,61,45,225,102,94,66,224,101,-3854,224,224,4,224,102,8,223,223,1001,224,7,224,1,223,224,223,1101,31,30,225,1102,39,44,224,1001,224,-1716,224,4,224,102,8,223,223,1001,224,7,224,1,224,223,223,1101,92,41,225,101,90,40,224,1001,224,-120,224,4,224,102,8,223,223,1001,224,1,224,1,223,224,223,1101,51,78,224,101,-129,224,224,4,224,1002,223,8,223,1001,224,6,224,1,224,223,223,1,170,13,224,101,-140,224,224,4,224,102,8,223,223,1001,224,4,224,1,223,224,223,1101,14,58,225,1102,58,29,225,1102,68,70,225,1002,217,87,224,101,-783,224,224,4,224,102,8,223,223,101,2,224,224,1,224,223,223,1101,19,79,225,1001,135,42,224,1001,224,-56,224,4,224,102,8,223,223,1001,224,6,224,1,224,223,223,2,139,144,224,1001,224,-4060,224,4,224,102,8,223,223,101,1,224,224,1,223,224,223,1102,9,51,225,4,223,99,0,0,0,677,0,0,0,0,0,0,0,0,0,0,0,1105,0,99999,1105,227,247,1105,1,99999,1005,227,99999,1005,0,256,1105,1,99999,1106,227,99999,1106,0,265,1105,1,99999,1006,0,99999,1006,227,274,1105,1,99999,1105,1,280,1105,1,99999,1,225,225,225,1101,294,0,0,105,1,0,1105,1,99999,1106,0,300,1105,1,99999,1,225,225,225,1101,314,0,0,106,0,0,1105,1,99999,1008,677,226,224,102,2,223,223,1006,224,329,101,1,223,223,108,677,677,224,102,2,223,223,1005,224,344,101,1,223,223,107,677,677,224,1002,223,2,223,1005,224,359,101,1,223,223,1107,226,677,224,1002,223,2,223,1005,224,374,1001,223,1,223,1008,677,677,224,102,2,223,223,1006,224,389,1001,223,1,223,1007,677,677,224,1002,223,2,223,1006,224,404,1001,223,1,223,8,677,226,224,102,2,223,223,1005,224,419,1001,223,1,223,8,226,226,224,102,2,223,223,1006,224,434,101,1,223,223,1107,226,226,224,1002,223,2,223,1006,224,449,101,1,223,223,1107,677,226,224,102,2,223,223,1005,224,464,101,1,223,223,1108,226,226,224,102,2,223,223,1006,224,479,1001,223,1,223,7,677,677,224,1002,223,2,223,1006,224,494,101,1,223,223,7,677,226,224,102,2,223,223,1005,224,509,101,1,223,223,1108,226,677,224,1002,223,2,223,1006,224,524,101,1,223,223,8,226,677,224,1002,223,2,223,1005,224,539,101,1,223,223,1007,226,226,224,102,2,223,223,1006,224,554,1001,223,1,223,108,226,226,224,1002,223,2,223,1006,224,569,1001,223,1,223,1108,677,226,224,102,2,223,223,1005,224,584,101,1,223,223,108,226,677,224,102,2,223,223,1005,224,599,101,1,223,223,1007,226,677,224,102,2,223,223,1006,224,614,1001,223,1,223,1008,226,226,224,1002,223,2,223,1006,224,629,1001,223,1,223,107,226,226,224,1002,223,2,223,1006,224,644,101,1,223,223,7,226,677,224,102,2,223,223,1005,224,659,1001,223,1,223,107,677,226,224,102,2,223,223,1005,224,674,1001,223,1,223,4,223,99,226]"
   ]
  },
  {
   "cell_type": "code",
   "execution_count": 62,
   "metadata": {},
   "outputs": [
    {
     "name": "stdout",
     "output_type": "stream",
     "text": [
      "5\n",
      "15163975\n",
      "None\n"
     ]
    }
   ],
   "source": [
    "\n",
    "memory = input_memory_2.copy()\n",
    "position = 0\n",
    "i_func = input\n",
    "#i_func = (lambda : 1)\n",
    "\n",
    "o_func = print\n",
    "while position != None:\n",
    "    position = intcode(memory, position, i_func, o_func)\n",
    "print(position)"
   ]
  },
  {
   "cell_type": "code",
   "execution_count": null,
   "metadata": {},
   "outputs": [],
   "source": []
  }
 ],
 "metadata": {
  "kernelspec": {
   "display_name": "Python 3",
   "language": "python",
   "name": "python3"
  },
  "language_info": {
   "codemirror_mode": {
    "name": "ipython",
    "version": 3
   },
   "file_extension": ".py",
   "mimetype": "text/x-python",
   "name": "python",
   "nbconvert_exporter": "python",
   "pygments_lexer": "ipython3",
   "version": "3.6.7"
  }
 },
 "nbformat": 4,
 "nbformat_minor": 2
}
